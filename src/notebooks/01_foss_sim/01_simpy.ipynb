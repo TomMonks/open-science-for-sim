{
 "cells": [
  {
   "cell_type": "markdown",
   "id": "turkish-developer",
   "metadata": {},
   "source": [
    "# SimPy\n",
    "\n",
    "`simpy` uses process based model worldview.  Given its simplicity it is a highly flexible discrete-event simulation package.\n",
    "\n",
    "> Detailed documentation can be found here: https://simpy.readthedocs.io/en/latest/\n",
    "\n",
    "---"
   ]
  },
  {
   "cell_type": "markdown",
   "id": "assigned-lottery",
   "metadata": {},
   "source": [
    "## Imports\n",
    "\n",
    "It is recommended that you use the provided conda virtual environment `os-sim`.  \n",
    "\n",
    ">If you are running this code in **Google Colab** then `simpy` can be installed by:"
   ]
  },
  {
   "cell_type": "code",
   "execution_count": null,
   "id": "induced-wallpaper",
   "metadata": {},
   "outputs": [],
   "source": [
    "pip install simpy==4.0.1"
   ]
  },
  {
   "cell_type": "code",
   "execution_count": 2,
   "id": "passing-foundation",
   "metadata": {},
   "outputs": [
    {
     "data": {
      "text/plain": [
       "'4.0.1'"
      ]
     },
     "execution_count": 2,
     "metadata": {},
     "output_type": "execute_result"
    }
   ],
   "source": [
    "import simpy\n",
    "simpy.__version__"
   ]
  },
  {
   "cell_type": "code",
   "execution_count": 3,
   "id": "extensive-harmony",
   "metadata": {},
   "outputs": [],
   "source": [
    "import numpy as np\n",
    "import pandas as pd\n",
    "import itertools\n",
    "import math\n",
    "import matplotlib.pyplot as plt"
   ]
  },
  {
   "cell_type": "code",
   "execution_count": 4,
   "id": "spare-stationery",
   "metadata": {},
   "outputs": [
    {
     "data": {
      "text/plain": [
       "'1.19.2'"
      ]
     },
     "execution_count": 4,
     "metadata": {},
     "output_type": "execute_result"
    }
   ],
   "source": [
    "# need numpy > v1.18\n",
    "np.__version__"
   ]
  },
  {
   "cell_type": "markdown",
   "id": "challenging-afghanistan",
   "metadata": {},
   "source": [
    "# Example: A health clinic in the US.\n",
    "\n",
    "This example is based on Nelson (2010) ex. 13 page 170."
   ]
  },
  {
   "cell_type": "code",
   "execution_count": 6,
   "id": "virgin-quick",
   "metadata": {},
   "outputs": [],
   "source": [
    "TRACE = True"
   ]
  },
  {
   "cell_type": "code",
   "execution_count": 5,
   "id": "dynamic-reader",
   "metadata": {},
   "outputs": [],
   "source": [
    "def trace(msg):\n",
    "    '''\n",
    "    Print a simulated trace.\n",
    "    '''\n",
    "    if TRACE:\n",
    "        print(msg)"
   ]
  },
  {
   "cell_type": "code",
   "execution_count": null,
   "id": "impressed-caution",
   "metadata": {},
   "outputs": [],
   "source": [
    "class TraumaPathway(object):\n",
    "    '''\n",
    "    Encapsulates the process a patient with severe injuries or illness.\n",
    "    \n",
    "    These patients are signed into the ED and triaged as having severe injuries\n",
    "    or illness.\n",
    "    \n",
    "    Patients are stabilised in resus (trauma) and then sent to Treatment.  \n",
    "    Following treatment they are discharged.\n",
    "    '''\n",
    "    def __init__(self, identifier, env, args):\n",
    "        '''\n",
    "        Constructor method\n",
    "        \n",
    "        Params:\n",
    "        -----\n",
    "        identifier: int\n",
    "            a numeric identifier for the patient.\n",
    "            \n",
    "        env: simpy.Environment\n",
    "            the simulation environment\n",
    "            \n",
    "        args: Scenario\n",
    "            Container class for the simulation parameters\n",
    "            \n",
    "        '''\n",
    "        self.identifier = identifier\n",
    "        self.env = env\n",
    "        \n",
    "        # triage resource\n",
    "        self.triage = args.triage\n",
    "        \n",
    "        #waiting time metrics\n",
    "        self.wait_triage = -np.inf\n",
    "        self.wait_trauma = -np.inf\n",
    "        \n",
    "         \n",
    "    def service(self):\n",
    "        '''\n",
    "        simulates the major treatment process for a patient\n",
    "        \n",
    "        1. request and wait for sign-in/triage\n",
    "        2. trauma\n",
    "        3. treatment\n",
    "        '''\n",
    "        # record the time that call entered the queue\n",
    "        start_wait = env.now\n",
    "\n",
    "        # request sign-in/triage \n",
    "        with self.triage.request() as req:\n",
    "            yield req\n",
    "            \n",
    "            # record the waiting time for call to be answered\n",
    "            self.waiting_time = self.env.now - start_wait\n",
    "            trace(f'operator answered call {self.identifier} at '\n",
    "                  f'{self.env.now:.3f}')\n",
    "            \n",
    "            # sample call duration.\n",
    "            triage_duration = args.triage_dist.sample()\n",
    "            yield self.env.timeout(triage_duration)\n",
    "            \n",
    "            trace(f'triage {self.identifier} ended {self.env.now:.3f}; '\n",
    "                  f'waiting time was {self.waiting_time:.3f}')\n",
    "            \n",
    "        # request trauma room \n",
    "        with self.args.trauma.request() as req:\n",
    "            yield req\n",
    "            \n",
    "            # record the waiting time for call to be answered\n",
    "            self.waiting_time = self.env.now - start_wait\n",
    "            trace(f'operator answered call {self.identifier} at '\n",
    "                  f'{self.env.now:.3f}')\n",
    "            \n",
    "            # sample call duration.\n",
    "            triage_duration = args.triage_dist.sample()\n",
    "            yield self.env.timeout(triage_duration)\n",
    "            \n",
    "            trace(f'triage {self.identifier} ended {self.env.now:.3f}; '\n",
    "                  f'waiting time was {self.waiting_time:.3f}')\n",
    "            \n",
    "        "
   ]
  }
 ],
 "metadata": {
  "kernelspec": {
   "display_name": "Python 3",
   "language": "python",
   "name": "python3"
  },
  "language_info": {
   "codemirror_mode": {
    "name": "ipython",
    "version": 3
   },
   "file_extension": ".py",
   "mimetype": "text/x-python",
   "name": "python",
   "nbconvert_exporter": "python",
   "pygments_lexer": "ipython3",
   "version": "3.8.8"
  }
 },
 "nbformat": 4,
 "nbformat_minor": 5
}
